{
  "nbformat": 4,
  "nbformat_minor": 0,
  "metadata": {
    "colab": {
      "provenance": [],
      "collapsed_sections": [
        "X_VqEhTip1ck",
        "ylSl6qgtp1ck",
        "M7G43BXep1ck",
        "E6MkPsBcp1cl",
        "2cELzS2fp1cl",
        "3MPXvC8up1cl",
        "UV0SzAkaZNRQ",
        "gIfDvo9L0UH2"
      ],
      "include_colab_link": true
    },
    "kernelspec": {
      "name": "python3",
      "display_name": "Python 3"
    },
    "language_info": {
      "name": "python"
    }
  },
  "cells": [
    {
      "cell_type": "markdown",
      "metadata": {
        "id": "view-in-github",
        "colab_type": "text"
      },
      "source": [
        "<a href=\"https://colab.research.google.com/github/nailaimtiyaz/AirBnb_Almabetter/blob/main/Copy_of_Sample_EDA_Submission_Template.ipynb\" target=\"_parent\"><img src=\"https://colab.research.google.com/assets/colab-badge.svg\" alt=\"Open In Colab\"/></a>"
      ]
    },
    {
      "cell_type": "markdown",
      "source": [
        "# **Project Name**    -\n",
        "\n"
      ],
      "metadata": {
        "id": "vncDsAP0Gaoa"
      }
    },
    {
      "cell_type": "markdown",
      "source": [
        "Airbnb Booking Analysis"
      ],
      "metadata": {
        "id": "yy0W1GBMwy8E"
      }
    },
    {
      "cell_type": "markdown",
      "source": [
        "##### **Project Type**    - EDA/Regression/Classification/Unsupervised\n",
        "##### **Contribution**    - Individual/Team\n",
        "##### **Team Member 1 -Naila Imtiyaz\n",
        "##### **Team Member 2 -**\n",
        "##### **Team Member 3 -**\n",
        "##### **Team Member 4 -**"
      ],
      "metadata": {
        "id": "beRrZCGUAJYm"
      }
    },
    {
      "cell_type": "markdown",
      "source": [
        "project type- EDA\n"
      ],
      "metadata": {
        "id": "0ctsFlCiOWbC"
      }
    },
    {
      "cell_type": "markdown",
      "source": [
        "contribution-individual"
      ],
      "metadata": {
        "id": "njl0d52QO5as"
      }
    },
    {
      "cell_type": "markdown",
      "source": [
        "Write the summary here within 500-600 words."
      ],
      "metadata": {
        "id": "F6v_1wHtG2nS"
      }
    },
    {
      "cell_type": "markdown",
      "source": [
        "Airbnb is an online marketplace that connects people who want to rent out their homes with people who are looking for accommodations in specific locales and hospitality service for people to lease or rent short-term lodging including holiday cottages, apartments, homestays, hostel beds, or hotel rooms. Basically they provide the platform that is shared by hosts and visitors worldwide. Airbnb, as in “Air Bed and Breakfast”, is a service that allows property owners to rent out their spaces/condos to travelers looking for a place to stay.\n",
        "\n",
        "Airbnb was started in 2008 by Brian Chesky & Joe Gebbia, based in San Francisco, California. The platform is accessible via website and mobile app.\n",
        "\n",
        "Since 2008, guests and hosts have used Airbnb to expand on travelling possibilities and present a more unique, personalised way of experiencing the world.\n",
        "\n",
        "This millions of listings generate a lot of data- data that can be analyzed and used for security, business decisions, understanding of customers’ and providers’ (hosts) behaviour and performance on the platform, guiding marketing initiatives, implementation of innovation additional services.\n",
        "\n",
        "The biggest problems Airbnb Hosts deal with? The most common problems vacation rental hosts deal with are regulations, local laws, parties, excessive turnovers, unmanageable guests, not knowing your market and finding better guests.\n",
        "\n",
        "The theory behind the “AirBnb Effect” comes as hosts convert long-term rentals that could house local residents and families to short-term rentals for visitors, thus decreasing an already short supply of housing.\n",
        "\n",
        "The main purpose of EDA is to help look at data before making any assumptions. It can help identify obvious errors, as well as better understand patterns within the data, detect outliers or anomalous events, find interesting relations among the variables.It can help with the detection of obvious errors, a better comprehension of data patterns, the detection of outliers or unexpected events, and the discovery of interesting correlations between variables."
      ],
      "metadata": {
        "id": "QOJGQwg8OUky"
      }
    },
    {
      "cell_type": "markdown",
      "source": [
        "# **GitHub Link -**"
      ],
      "metadata": {
        "id": "w6K7xa23Elo4"
      }
    },
    {
      "cell_type": "markdown",
      "source": [
        "Provide your GitHub Link here.\n",
        "Copy_of_Sample_EDA_Submission_Template.ipynb\n"
      ],
      "metadata": {
        "id": "h1o69JH3Eqqn"
      }
    },
    {
      "cell_type": "markdown",
      "source": [
        "# **Problem Statement**\n"
      ],
      "metadata": {
        "id": "yQaldy8SH6Dl"
      }
    },
    {
      "cell_type": "markdown",
      "source": [
        "**Write Problem Statement Here.**"
      ],
      "metadata": {
        "id": "DpeJGUA3kjGy"
      }
    },
    {
      "cell_type": "markdown",
      "source": [
        "Since 2008, guests and hosts have used Airbnb to expand on travelling possibilities and present a more unique, personalised way of experiencing the world.\n",
        "\n",
        "This millions of listings generate a lot of data- data that can be analyzed and used for security, business decisions, understanding of customers’ and providers’ (hosts) behaviour and performance on the platform, guiding marketing initiatives, implementation of innovation additional services.\n",
        "\n"
      ],
      "metadata": {
        "id": "rp2j6u9bOYVH"
      }
    },
    {
      "cell_type": "markdown",
      "source": [
        "#### **Define Your Business Objective?**"
      ],
      "metadata": {
        "id": "PH-0ReGfmX4f"
      }
    },
    {
      "cell_type": "markdown",
      "source": [
        "Answer Here."
      ],
      "metadata": {
        "id": "PhDvGCAqmjP1"
      }
    },
    {
      "cell_type": "markdown",
      "source": [
        "\n",
        "\n",
        "The goal of data exploration is to learn about characteristics and potential problems of a data set without the need to formulate assumptions about the data beforehand. In statistics, data exploration is often referred to as “exploratory data analysis” and contrasts traditional hypothesis testing.\n",
        "\n",
        "It can help with the detection of obvious errors, a better comprehension of data patterns, the detection of outliers or unexpected events, and the discovery of interesting correlations between variables.\n",
        "\n",
        "Data Science technologies are at the core of identifying drivers of trust to engage more users and find out novel ways on how to alleviate trust. Data science technology is the key differentiator for the rapid growth of AirBnB and how it is able to make better recommendations by matching the right people together."
      ],
      "metadata": {
        "id": "Y0_Y6fHjf6Fa"
      }
    },
    {
      "cell_type": "markdown",
      "source": [
        "# **General Guidelines** : -  "
      ],
      "metadata": {
        "id": "mDgbUHAGgjLW"
      }
    },
    {
      "cell_type": "markdown",
      "source": [
        "1.   Well-structured, formatted, and commented code is required.\n",
        "2.   Exception Handling, Production Grade Code & Deployment Ready Code will be a plus. Those students will be awarded some additional credits.\n",
        "     \n",
        "     The additional credits will have advantages over other students during Star Student selection.\n",
        "       \n",
        "             [ Note: - Deployment Ready Code is defined as, the whole .ipynb notebook should be executable in one go\n",
        "                       without a single error logged. ]\n",
        "\n",
        "3.   Each and every logic should have proper comments.\n",
        "4. You may add as many number of charts you want. Make Sure for each and every chart the following format should be answered.\n",
        "        \n",
        "\n",
        "```\n",
        "# Chart visualization code\n",
        "```\n",
        "            \n",
        "\n",
        "*   Why did you pick the specific chart?\n",
        "*   What is/are the insight(s) found from the chart?\n",
        "* Will the gained insights help creating a positive business impact?\n",
        "Are there any insights that lead to negative growth? Justify with specific reason.\n",
        "\n",
        "5. You have to create at least 20 logical & meaningful charts having important insights.\n",
        "\n",
        "\n",
        "[ Hints : - Do the Vizualization in  a structured way while following \"UBM\" Rule.\n",
        "\n",
        "U - Univariate Analysis,\n",
        "\n",
        "B - Bivariate Analysis (Numerical - Categorical, Numerical - Numerical, Categorical - Categorical)\n",
        "\n",
        "M - Multivariate Analysis\n",
        " ]\n",
        "\n",
        "\n",
        "\n"
      ],
      "metadata": {
        "id": "ZrxVaUj-hHfC"
      }
    },
    {
      "cell_type": "markdown",
      "source": [
        "# ***Let's Begin !***"
      ],
      "metadata": {
        "id": "O_i_v8NEhb9l"
      }
    },
    {
      "cell_type": "markdown",
      "source": [
        "## ***1. Know Your Data***"
      ],
      "metadata": {
        "id": "HhfV-JJviCcP"
      }
    },
    {
      "cell_type": "markdown",
      "source": [
        "### Import Libraries"
      ],
      "metadata": {
        "id": "Y3lxredqlCYt"
      }
    },
    {
      "cell_type": "code",
      "source": [
        "# Import Libraries"
      ],
      "metadata": {
        "id": "M8Vqi-pPk-HR"
      },
      "execution_count": null,
      "outputs": []
    },
    {
      "cell_type": "code",
      "source": [
        "import pandas as pd\n",
        "import numpy as np\n",
        "import matplotlib.pyplot as plt\n",
        "import seaborn as sns\n",
        "import missingno as msno\n"
      ],
      "metadata": {
        "id": "TKUa_2Z01GTt"
      },
      "execution_count": null,
      "outputs": []
    },
    {
      "cell_type": "markdown",
      "source": [
        "### Dataset Loading"
      ],
      "metadata": {
        "id": "3RnN4peoiCZX"
      }
    },
    {
      "cell_type": "code",
      "source": [
        "from google.colab import drive\n",
        "drive.flush_and_unmount()"
      ],
      "metadata": {
        "id": "SbdjGNDr8PGY"
      },
      "execution_count": null,
      "outputs": []
    },
    {
      "cell_type": "code",
      "source": [
        "from google.colab import drive\n",
        "drive.mount('/content/drive')"
      ],
      "metadata": {
        "id": "2XeCzC6K8fTs"
      },
      "execution_count": null,
      "outputs": []
    },
    {
      "cell_type": "code",
      "source": [
        "df = pd.read_csv('/content/drive/MyDrive/Airbnb project sample data/Airbnb NYC 2019.csv')\n"
      ],
      "metadata": {
        "id": "KIUGzc6F2x-0"
      },
      "execution_count": null,
      "outputs": []
    },
    {
      "cell_type": "code",
      "source": [
        "# Load Dataset"
      ],
      "metadata": {
        "id": "4CkvbW_SlZ_R"
      },
      "execution_count": null,
      "outputs": []
    },
    {
      "cell_type": "markdown",
      "source": [
        "### Dataset First View"
      ],
      "metadata": {
        "id": "x71ZqKXriCWQ"
      }
    },
    {
      "cell_type": "code",
      "source": [
        "# Dataset First Look"
      ],
      "metadata": {
        "id": "LWNFOSvLl09H"
      },
      "execution_count": null,
      "outputs": []
    },
    {
      "cell_type": "code",
      "source": [
        "df.shape\n"
      ],
      "metadata": {
        "id": "DnUlMWpl63uH"
      },
      "execution_count": null,
      "outputs": []
    },
    {
      "cell_type": "code",
      "source": [
        "print(df.head())"
      ],
      "metadata": {
        "id": "Ieu4BPZS_IKH"
      },
      "execution_count": null,
      "outputs": []
    },
    {
      "cell_type": "markdown",
      "source": [
        "### Dataset Rows & Columns count"
      ],
      "metadata": {
        "id": "7hBIi_osiCS2"
      }
    },
    {
      "cell_type": "code",
      "source": [
        "# Dataset Rows & Columns count"
      ],
      "metadata": {
        "id": "Kllu7SJgmLij"
      },
      "execution_count": null,
      "outputs": []
    },
    {
      "cell_type": "code",
      "source": [
        "rows=df.count()[0]\n",
        "columns=df[df.columns[0]].count()\n",
        "print(df)"
      ],
      "metadata": {
        "id": "quAzlniO_45Q"
      },
      "execution_count": null,
      "outputs": []
    },
    {
      "cell_type": "markdown",
      "source": [
        "### Dataset Information"
      ],
      "metadata": {
        "id": "JlHwYmJAmNHm"
      }
    },
    {
      "cell_type": "code",
      "source": [
        "# Dataset Info"
      ],
      "metadata": {
        "id": "e9hRXRi6meOf"
      },
      "execution_count": null,
      "outputs": []
    },
    {
      "cell_type": "code",
      "source": [
        "print(df.info())"
      ],
      "metadata": {
        "id": "kxJg0Sh9BYjp"
      },
      "execution_count": null,
      "outputs": []
    },
    {
      "cell_type": "markdown",
      "source": [
        "#### Duplicate Values"
      ],
      "metadata": {
        "id": "35m5QtbWiB9F"
      }
    },
    {
      "cell_type": "code",
      "source": [
        "# Dataset Duplicate Value Count"
      ],
      "metadata": {
        "id": "1sLdpKYkmox0"
      },
      "execution_count": null,
      "outputs": []
    },
    {
      "cell_type": "code",
      "source": [
        "len(df)-len(df.drop_duplicates())"
      ],
      "metadata": {
        "id": "PyfZGeArE75X"
      },
      "execution_count": null,
      "outputs": []
    },
    {
      "cell_type": "markdown",
      "source": [
        "#### Missing Values/Null Values"
      ],
      "metadata": {
        "id": "PoPl-ycgm1ru"
      }
    },
    {
      "cell_type": "code",
      "source": [
        "# Missing Values/Null Values Count"
      ],
      "metadata": {
        "id": "GgHWkxvamxVg"
      },
      "execution_count": null,
      "outputs": []
    },
    {
      "cell_type": "code",
      "source": [
        "\n",
        "df.isnull().sum()\n",
        "\n"
      ],
      "metadata": {
        "id": "wMmNJNjROaSb"
      },
      "execution_count": null,
      "outputs": []
    },
    {
      "cell_type": "code",
      "source": [
        "# Visualizing the missing values"
      ],
      "metadata": {
        "id": "3q5wnI3om9sJ"
      },
      "execution_count": null,
      "outputs": []
    },
    {
      "cell_type": "code",
      "source": [
        "msno.bar(df)"
      ],
      "metadata": {
        "id": "qJUsunC-Qdj3"
      },
      "execution_count": null,
      "outputs": []
    },
    {
      "cell_type": "markdown",
      "source": [
        "### What did you know about your dataset?"
      ],
      "metadata": {
        "id": "H0kj-8xxnORC"
      }
    },
    {
      "cell_type": "markdown",
      "source": [
        "Answer Here"
      ],
      "metadata": {
        "id": "gfoNAAC-nUe_"
      }
    },
    {
      "cell_type": "markdown",
      "source": [
        "Ok, so we can see our dataset has 48895 data and 16 columns. Lets try to understand about the columns we've got here.\n",
        "\n",
        "id : a unique id identifying an airbnb lisitng\n",
        "name : name representating the accomodation\n",
        "host_id : a unique id identifying an airbnb host\n",
        "host_name : name under whom host is registered\n",
        "neighbourhood_group : a group of area\n",
        "beighbourhood : area falls under neighbourhood_group\n",
        "latitude : coordinate of listing\n",
        "longitude : coordinate of listing\n",
        "room_type : type to categorize listing rooms\n",
        "price : price of listing\n",
        "minimum_nights : the minimum nights required to stay in a single visit\n",
        "number_of_reviews : total count of reviews given by visitors    last_review : date of last review given\n",
        "reviews_per_month : rate of reviews given per month\n",
        "calculated_host_listings_count : total no of listing registered under the host\n",
        "availability_365 : the number of days for which a host is available in a year.\n"
      ],
      "metadata": {
        "id": "EeJ8SGCyR32C"
      }
    },
    {
      "cell_type": "markdown",
      "source": [
        "## ***2. Understanding Your Variables***"
      ],
      "metadata": {
        "id": "nA9Y7ga8ng1Z"
      }
    },
    {
      "cell_type": "code",
      "source": [
        "# Dataset Columns"
      ],
      "metadata": {
        "id": "j7xfkqrt5Ag5"
      },
      "execution_count": null,
      "outputs": []
    },
    {
      "cell_type": "code",
      "source": [
        "df.columns"
      ],
      "metadata": {
        "id": "k2tdEZ7AyQo6"
      },
      "execution_count": null,
      "outputs": []
    },
    {
      "cell_type": "code",
      "source": [
        "# Dataset Describe"
      ],
      "metadata": {
        "id": "DnOaZdaE5Q5t"
      },
      "execution_count": null,
      "outputs": []
    },
    {
      "cell_type": "code",
      "source": [
        "df.describe()"
      ],
      "metadata": {
        "id": "_pyFsjEOVAxe"
      },
      "execution_count": null,
      "outputs": []
    },
    {
      "cell_type": "markdown",
      "source": [
        "### Variables Description"
      ],
      "metadata": {
        "id": "PBTbrJXOngz2"
      }
    },
    {
      "cell_type": "markdown",
      "source": [
        "Answer Here"
      ],
      "metadata": {
        "id": "aJV4KIxSnxay"
      }
    },
    {
      "cell_type": "markdown",
      "source": [
        "latitude and longitude has represented a co-ordinate, neighbourhood_group, neighbourhood and room_type are columns of categorical type. last_review is a column of date type, which i have converted it as required.\n",
        "\n",
        "i can check there are 4 columns containing null values which are name, host_name looks like listing name and host_name doesn't really matter to us for now and last_reviews, reviews_per_month obviously, if a listing has never received a review, its possible and valid. So i will just fillna(0) to those null values"
      ],
      "metadata": {
        "id": "dcd89K2IQ6dW"
      }
    },
    {
      "cell_type": "code",
      "source": [
        "df.fillna(0, inplace=True)"
      ],
      "metadata": {
        "id": "Ww1nwNi0TGQP"
      },
      "execution_count": null,
      "outputs": []
    },
    {
      "cell_type": "markdown",
      "source": [
        "### Check Unique Values for each variable."
      ],
      "metadata": {
        "id": "u3PMJOP6ngxN"
      }
    },
    {
      "cell_type": "code",
      "source": [
        "# Check Unique Values for each variable."
      ],
      "metadata": {
        "id": "zms12Yq5n-jE"
      },
      "execution_count": null,
      "outputs": []
    },
    {
      "cell_type": "markdown",
      "source": [
        "we're excluding lat long as they are coordinate, id & host_id as they're unique id"
      ],
      "metadata": {
        "id": "8Xz1HCCBVhCC"
      }
    },
    {
      "cell_type": "code",
      "source": [
        "col_after_excluding = set(df.columns) - {'latitude', 'longitude', 'id', 'host_id'}\n",
        "df[col_after_excluding].describe()"
      ],
      "metadata": {
        "id": "fbcrmmfzVxY7"
      },
      "execution_count": null,
      "outputs": []
    },
    {
      "cell_type": "markdown",
      "source": [
        "## 3. ***Data Wrangling***"
      ],
      "metadata": {
        "id": "dauF4eBmngu3"
      }
    },
    {
      "cell_type": "markdown",
      "source": [
        "### Data Wrangling Code"
      ],
      "metadata": {
        "id": "bKJF3rekwFvQ"
      }
    },
    {
      "cell_type": "code",
      "source": [
        "# Write your code to make your dataset analysis ready."
      ],
      "metadata": {
        "id": "wk-9a2fpoLcV"
      },
      "execution_count": null,
      "outputs": []
    },
    {
      "cell_type": "code",
      "source": [
        "dist_col_list = df[col_after_excluding].describe().columns.tolist()"
      ],
      "metadata": {
        "id": "0YRoGsEhWC5T"
      },
      "execution_count": null,
      "outputs": []
    },
    {
      "cell_type": "markdown",
      "source": [
        "### What all manipulations have you done and insights you found?"
      ],
      "metadata": {
        "id": "MSa1f5Uengrz"
      }
    },
    {
      "cell_type": "markdown",
      "source": [
        "Answer Here."
      ],
      "metadata": {
        "id": "LbyXE7I1olp8"
      }
    },
    {
      "cell_type": "markdown",
      "source": [
        "We can check there are 4 columns containing null values which are name, host_name looks like listing name and host_name doesn't really matter to us for now and last_reviews, reviews_per_month obviously, if a listing has never received a review, its possible and valid."
      ],
      "metadata": {
        "id": "vrvOWk1_qgJr"
      }
    },
    {
      "cell_type": "markdown",
      "source": [
        "## ***4. Data Vizualization, Storytelling & Experimenting with charts : Understand the relationships between variables***"
      ],
      "metadata": {
        "id": "GF8Ens_Soomf"
      }
    },
    {
      "cell_type": "markdown",
      "source": [],
      "metadata": {
        "id": "qtXGC5Ed9tFh"
      }
    },
    {
      "cell_type": "markdown",
      "source": [
        "#### Chart - 1"
      ],
      "metadata": {
        "id": "0wOQAZs5pc--"
      }
    },
    {
      "cell_type": "code",
      "source": [
        "# Chart - 1 visualization code"
      ],
      "metadata": {
        "id": "7v_ESjsspbW7"
      },
      "execution_count": null,
      "outputs": []
    },
    {
      "cell_type": "code",
      "source": [
        "plt.figure(figsize=(10, 6))\n",
        "sns.histplot(df['price'], bins=20, kde=True)\n",
        "plt.title('Distribution of Prices')\n",
        "plt.xlabel('Price')\n",
        "plt.ylabel('Frequency')\n",
        "plt.show()\n"
      ],
      "metadata": {
        "id": "fAjsIkmySFmV"
      },
      "execution_count": null,
      "outputs": []
    },
    {
      "cell_type": "markdown",
      "source": [
        "##### 1. Why did you pick the specific chart?"
      ],
      "metadata": {
        "id": "K5QZ13OEpz2H"
      }
    },
    {
      "cell_type": "markdown",
      "source": [
        "Answer Here."
      ],
      "metadata": {
        "id": "XESiWehPqBRc"
      }
    },
    {
      "cell_type": "markdown",
      "source": [
        "A histogram is basically used to represent data provided in a form of some groups.It is accurate method for the graphical representation of numerical data distribution."
      ],
      "metadata": {
        "id": "BX5Z1h5coaXP"
      }
    },
    {
      "cell_type": "markdown",
      "source": [
        "##### 2. What is/are the insight(s) found from the chart?"
      ],
      "metadata": {
        "id": "lQ7QKXXCp7Bj"
      }
    },
    {
      "cell_type": "markdown",
      "source": [
        "Answer Here"
      ],
      "metadata": {
        "id": "C_j1G7yiqdRP"
      }
    },
    {
      "cell_type": "markdown",
      "source": [
        "##### 3. Will the gained insights help creating a positive business impact?\n",
        "Are there any insights that lead to negative growth? Justify with specific reason."
      ],
      "metadata": {
        "id": "448CDAPjqfQr"
      }
    },
    {
      "cell_type": "markdown",
      "source": [
        "Answer Here"
      ],
      "metadata": {
        "id": "3cspy4FjqxJW"
      }
    },
    {
      "cell_type": "markdown",
      "source": [
        "#### Chart - 2"
      ],
      "metadata": {
        "id": "KSlN3yHqYklG"
      }
    },
    {
      "cell_type": "code",
      "source": [
        "# Chart - 2 visualization code"
      ],
      "metadata": {
        "id": "R4YgtaqtYklH"
      },
      "execution_count": null,
      "outputs": []
    },
    {
      "cell_type": "code",
      "source": [
        "fig, axes = plt.subplots(nrows=2, ncols=3, figsize=(24, 10))\n",
        "axes = axes.flatten()\n",
        "for col, ax in zip(dist_col_list, axes):\n",
        "    sns.histplot(x=col, data=df, ax=ax, kde=True, element='poly')\n",
        "    ax.set_title(f'Column {col} skewness : {df[col].skew()}')\n",
        "\n",
        "plt.tight_layout(h_pad=0.5, w_pad=0.8)"
      ],
      "metadata": {
        "id": "jIdy7cqcub12"
      },
      "execution_count": null,
      "outputs": []
    },
    {
      "cell_type": "markdown",
      "source": [
        "##### 1. Why did you pick the specific chart?"
      ],
      "metadata": {
        "id": "t6dVpIINYklI"
      }
    },
    {
      "cell_type": "markdown",
      "source": [
        "Answer Here."
      ],
      "metadata": {
        "id": "5aaW0BYyYklI"
      }
    },
    {
      "cell_type": "markdown",
      "source": [
        "Because subplots allows us to insert multiple plots on a grid within a single figure."
      ],
      "metadata": {
        "id": "BMpsf_hauvL5"
      }
    },
    {
      "cell_type": "markdown",
      "source": [
        "##### 2. What is/are the insight(s) found from the chart?"
      ],
      "metadata": {
        "id": "ijmpgYnKYklI"
      }
    },
    {
      "cell_type": "markdown",
      "source": [
        "Answer Here"
      ],
      "metadata": {
        "id": "PSx9atu2YklI"
      }
    },
    {
      "cell_type": "markdown",
      "source": [
        "From the distribution of filtered numerical data columns, it can be concluded that all these has a positive skewed distribution including price. However, availability distributed uniformly throughout days of a year, so it means we have all sort of listing available uniformly throughout the year.\n",
        "\n"
      ],
      "metadata": {
        "id": "ifwj27LQu31t"
      }
    },
    {
      "cell_type": "markdown",
      "source": [
        "##### 3. Will the gained insights help creating a positive business impact?\n",
        "Are there any insights that lead to negative growth? Justify with specific reason."
      ],
      "metadata": {
        "id": "-JiQyfWJYklI"
      }
    },
    {
      "cell_type": "markdown",
      "source": [
        "Answer Here"
      ],
      "metadata": {
        "id": "BcBbebzrYklV"
      }
    },
    {
      "cell_type": "markdown",
      "source": [
        "yes the gained insights help creating a positive impact as it can be concluded that all these has a positive skewed distribution including price. However, availability distributed uniformly throughout days of a year, so it means we have all sort of listing available uniformly throughout the year.\n",
        "\n"
      ],
      "metadata": {
        "id": "uLaJWI8RxqJO"
      }
    },
    {
      "cell_type": "markdown",
      "source": [
        "#### Chart - 3"
      ],
      "metadata": {
        "id": "EM7whBJCYoAo"
      }
    },
    {
      "cell_type": "code",
      "source": [
        "# Chart - 3 visualization code"
      ],
      "metadata": {
        "id": "t6GMdE67YoAp"
      },
      "execution_count": null,
      "outputs": []
    },
    {
      "cell_type": "code",
      "source": [
        "fig, axes = plt.subplots(nrows=2, ncols=2, figsize=(24, 12))\n",
        "ax = axes.flatten()\n",
        "\n",
        "sns.set_theme(style=\"white\")\n",
        "sns.scatterplot(data=df, x='longitude', y='latitude', hue='neighbourhood_group', ax=ax[0]);\n",
        "ax[0].set_title('Location of neighbourhood groups')\n",
        "sns.scatterplot(data=df[df['price'] < 300], x='longitude', y='latitude', hue='price', size=\"price\", sizes=(20, 60), palette='GnBu_d', ax=ax[1])\n",
        "ax[1].set_title('Variation of Price based on Location ($0 - 300)')\n",
        "sns.scatterplot(data=df, x='longitude', y='latitude', hue='number_of_reviews', size=\"number_of_reviews\", sizes=(20, 150), palette='GnBu_d', hue_norm=(0, 5), ax=ax[2])\n",
        "ax[2].set_title('Variation of number of reviews given based on location')\n",
        "sns.scatterplot(data=df, x='longitude', y='latitude', hue='availability_365', style=\"room_type\", palette='GnBu_d', ax=ax[3])\n",
        "ax[3].set_title('Availability in terms of Room Type')\n",
        "plt.show()"
      ],
      "metadata": {
        "id": "f9M6RJ2Kv-Zc"
      },
      "execution_count": null,
      "outputs": []
    },
    {
      "cell_type": "markdown",
      "source": [
        "##### 1. Why did you pick the specific chart?"
      ],
      "metadata": {
        "id": "fge-S5ZAYoAp"
      }
    },
    {
      "cell_type": "markdown",
      "source": [
        "Answer Here."
      ],
      "metadata": {
        "id": "5dBItgRVYoAp"
      }
    },
    {
      "cell_type": "markdown",
      "source": [
        "A scatter plot is a visual representation of how two variables relate to each other. we can use scatter plots to explore the relationship between two variables"
      ],
      "metadata": {
        "id": "GQCOpg9CoGFL"
      }
    },
    {
      "cell_type": "markdown",
      "source": [
        "##### 2. What is/are the insight(s) found from the chart?"
      ],
      "metadata": {
        "id": "85gYPyotYoAp"
      }
    },
    {
      "cell_type": "markdown",
      "source": [
        "Answer Here"
      ],
      "metadata": {
        "id": "4jstXR6OYoAp"
      }
    },
    {
      "cell_type": "markdown",
      "source": [
        "In the first plot we can check the neighbourhood location of New York city where our dataset currently belongs to. In the second plot, we have considered only listing with a price range max to usd 300, as our 75th percentile data lies in range of usd 175. We can check how variation in prices distributed throughout the city location. The south of Manhattan and north of Brooklyn belongs to the expensive areas of New York. (Source timeout.com). In the third plot, we can follow a trend in rise of the review count throughout the outskirts of city. In the last plot, we've tried to visualize the availability in terms of room type. Though availability based on room type is spreaded well, still we can follow a pattern where the heart of new york stays the busiest or booked for most of the time.\n",
        "\n"
      ],
      "metadata": {
        "id": "RopSmBVu1TgS"
      }
    },
    {
      "cell_type": "markdown",
      "source": [
        "##### 3. Will the gained insights help creating a positive business impact?\n",
        "Are there any insights that lead to negative growth? Justify with specific reason."
      ],
      "metadata": {
        "id": "RoGjAbkUYoAp"
      }
    },
    {
      "cell_type": "markdown",
      "source": [
        "Answer Here"
      ],
      "metadata": {
        "id": "zfJ8IqMcYoAp"
      }
    },
    {
      "cell_type": "markdown",
      "source": [
        "yes there is a positive buisness impact as we have all sort of listing available uniformly throughout the year."
      ],
      "metadata": {
        "id": "QmwSCAnAvngy"
      }
    },
    {
      "cell_type": "markdown",
      "source": [
        "#### Chart - 4"
      ],
      "metadata": {
        "id": "4Of9eVA-YrdM"
      }
    },
    {
      "cell_type": "code",
      "source": [
        "# Chart - 4 visualization code"
      ],
      "metadata": {
        "id": "irlUoxc8YrdO"
      },
      "execution_count": null,
      "outputs": []
    },
    {
      "cell_type": "code",
      "source": [
        "fig, axes = plt.subplots(nrows=1, ncols=3, figsize=(24, 10))\n",
        "ax = axes.flatten()\n",
        "\n",
        "# group_price_df = df.groupby('neighbourhood_group')['price'].agg([np.max, np.mean, np.min]).reset_index()\n",
        "mean_price_df = df.groupby(['neighbourhood_group', 'room_type'], as_index=False)[['price']].mean()\n",
        "sns.barplot(data=mean_price_df, x='neighbourhood_group', y ='price', hue='room_type', ax=ax[0])\n",
        "\n",
        "sns.histplot(data=df[df['price'] < 500], x=\"price\", hue=\"neighbourhood_group\", stat='frequency', element='poly', ax=ax[1])\n",
        "sns.histplot(data=df, x='neighbourhood_group', y='price', hue='room_type', element='poly', ax=ax[2])\n",
        "ax[1].set_title('Distribution of Listing and Price throughout city.')\n",
        "sns.despine(fig)"
      ],
      "metadata": {
        "id": "6Y4dGU7e4Czu"
      },
      "execution_count": null,
      "outputs": []
    },
    {
      "cell_type": "markdown",
      "source": [
        "##### 1. Why did you pick the specific chart?"
      ],
      "metadata": {
        "id": "iky9q4vBYrdO"
      }
    },
    {
      "cell_type": "markdown",
      "source": [
        "Answer Here."
      ],
      "metadata": {
        "id": "aJRCwT6DYrdO"
      }
    },
    {
      "cell_type": "markdown",
      "source": [
        "Because bar graph is a pictorial representation using vertical and horizontal bars in a graph and histogram is also a pictorial representation of data usingrectangular bars that are adjacent to each other.\n",
        "\n"
      ],
      "metadata": {
        "id": "8gJmVSZO4Xu5"
      }
    },
    {
      "cell_type": "markdown",
      "source": [
        "##### 2. What is/are the insight(s) found from the chart?"
      ],
      "metadata": {
        "id": "F6T5p64dYrdO"
      }
    },
    {
      "cell_type": "markdown",
      "source": [
        "Answer Here"
      ],
      "metadata": {
        "id": "Xx8WAJvtYrdO"
      }
    },
    {
      "cell_type": "markdown",
      "source": [
        "From the above graph, we can understand Brooklyn and Manhattan stands within the most urban and active area, in terms of listing areas and pricing. Manhattan & Brooklyn has highest avg room price, though Staten Island is not far behind. Shared room has relatively low price and also low in count in all the neighbourhood, whilst Manhattan has most number of Entire home/apt category, but Brooklyn has most number of Private room category."
      ],
      "metadata": {
        "id": "ff-z2DdN4e5P"
      }
    },
    {
      "cell_type": "markdown",
      "source": [
        "##### 3. Will the gained insights help creating a positive business impact?\n",
        "Are there any insights that lead to negative growth? Justify with specific reason."
      ],
      "metadata": {
        "id": "y-Ehk30pYrdP"
      }
    },
    {
      "cell_type": "markdown",
      "source": [
        "Answer Here"
      ],
      "metadata": {
        "id": "jLNxxz7MYrdP"
      }
    },
    {
      "cell_type": "markdown",
      "source": [
        "yes there is a positive business impact as Brooklyn and Manhattan stands within the most urban and active area, in terms of listing areas and pricing."
      ],
      "metadata": {
        "id": "WQCIoErUnKPk"
      }
    },
    {
      "cell_type": "markdown",
      "source": [
        "**CHART-5**"
      ],
      "metadata": {
        "id": "kQ-SaEEL424b"
      }
    },
    {
      "cell_type": "code",
      "source": [
        "# Chart - 5 visualization code"
      ],
      "metadata": {
        "id": "TIJwrbroYuh3"
      },
      "execution_count": null,
      "outputs": []
    },
    {
      "cell_type": "code",
      "source": [
        "fig = plt.figure(figsize=(24, 6))\n",
        "plt.tick_params(\n",
        "    axis='x',          # changes apply to the x-axis\n",
        "    which='both',      # both major and minor ticks are affected\n",
        "    bottom=False,      # ticks along the bottom edge are off\n",
        "    top=False,         # ticks along the top edge are off\n",
        "    labelbottom=False)\n",
        "sns.lineplot(data=df, x='neighbourhood', y='price', hue='room_type')\n",
        "plt.title('Distribution of Prices in neighbourhoods')\n",
        "sns.despine(fig)"
      ],
      "metadata": {
        "id": "syVOVzKs5PB4"
      },
      "execution_count": null,
      "outputs": []
    },
    {
      "cell_type": "markdown",
      "source": [
        "##### 1. Why did you pick the specific chart?"
      ],
      "metadata": {
        "id": "QHF8YVU7Yuh3"
      }
    },
    {
      "cell_type": "markdown",
      "source": [
        "Answer Here."
      ],
      "metadata": {
        "id": "dcxuIMRPYuh3"
      }
    },
    {
      "cell_type": "markdown",
      "source": [
        "Here i am using line chart because it displays the evolution of one or several numeric variables."
      ],
      "metadata": {
        "id": "XkSWpq-Z5b_i"
      }
    },
    {
      "cell_type": "markdown",
      "source": [
        "##### 2. What is/are the insight(s) found from the chart?"
      ],
      "metadata": {
        "id": "GwzvFGzlYuh3"
      }
    },
    {
      "cell_type": "markdown",
      "source": [
        "Answer Here"
      ],
      "metadata": {
        "id": "uyqkiB8YYuh3"
      }
    },
    {
      "cell_type": "markdown",
      "source": [
        "Clearly, room type Entire home/apt has maintained higher price range in almost all neighbourhoods."
      ],
      "metadata": {
        "id": "Q-UacY5D5iKV"
      }
    },
    {
      "cell_type": "markdown",
      "source": [
        "##### 3. Will the gained insights help creating a positive business impact?\n",
        "Are there any insights that lead to negative growth? Justify with specific reason."
      ],
      "metadata": {
        "id": "qYpmQ266Yuh3"
      }
    },
    {
      "cell_type": "markdown",
      "source": [
        "Answer Here"
      ],
      "metadata": {
        "id": "_WtzZ_hCYuh4"
      }
    },
    {
      "cell_type": "markdown",
      "source": [
        "There is a negative growth as room type Entire home/apt has maintained higher price range in almost all neighbourhoods."
      ],
      "metadata": {
        "id": "k1knDdX9l8GD"
      }
    },
    {
      "cell_type": "markdown",
      "source": [
        "#### Chart - 6"
      ],
      "metadata": {
        "id": "OH-pJp9IphqM"
      }
    },
    {
      "cell_type": "code",
      "source": [
        "# Chart - 6 visualization code"
      ],
      "metadata": {
        "id": "kuRf4wtuphqN"
      },
      "execution_count": null,
      "outputs": []
    },
    {
      "cell_type": "code",
      "source": [
        "fig, axes = plt.subplots(nrows=1, ncols=3, figsize=(22, 6))\n",
        "ax = axes.flatten()\n",
        "\n",
        "mean_price_df = df.groupby('room_type', as_index=False)[['price']].mean()\n",
        "sns.barplot(data=mean_price_df, x='room_type', y='price', palette='GnBu_d', ax=ax[0])\n",
        "ax[0].set_title(\"Avg Price vs Rooms type\");\n",
        "\n",
        "labels = df['room_type'].value_counts().index\n",
        "sizes = df['room_type'].value_counts().values\n",
        "ax[1].pie(sizes, labels=labels, autopct='%1.1f%%', colors = ['#009999','#007399','#20B2AA'])\n",
        "ax[1].set_title('Proportion of Room Types')\n",
        "\n",
        "sns.countplot(data=df, x='room_type', ax=ax[2])\n",
        "ax[2].set_title('Room Type Counts')\n",
        "\n",
        "sns.despine(fig)\n",
        "plt.tight_layout(h_pad=0.5, w_pad=0.8)"
      ],
      "metadata": {
        "id": "XU3ym4sz55LW"
      },
      "execution_count": null,
      "outputs": []
    },
    {
      "cell_type": "markdown",
      "source": [
        "##### 1. Why did you pick the specific chart?"
      ],
      "metadata": {
        "id": "bbFf2-_FphqN"
      }
    },
    {
      "cell_type": "markdown",
      "source": [
        "Answer Here."
      ],
      "metadata": {
        "id": "loh7H2nzphqN"
      }
    },
    {
      "cell_type": "markdown",
      "source": [
        "subplots method provides a way to plot multiple plots on a single figure. Given the number of rows and columns , it returns a tuple ( fig , ax ), giving a single figure fig with an array of axes ax ."
      ],
      "metadata": {
        "id": "JdHmYhMllK6d"
      }
    },
    {
      "cell_type": "markdown",
      "source": [
        "##### 2. What is/are the insight(s) found from the chart?"
      ],
      "metadata": {
        "id": "_ouA3fa0phqN"
      }
    },
    {
      "cell_type": "markdown",
      "source": [
        "Answer Here"
      ],
      "metadata": {
        "id": "VECbqPI7phqN"
      }
    },
    {
      "cell_type": "markdown",
      "source": [
        "Entire home/apt has more than 50% proportion in new york city and it too has highest avg price also. Shared room are the cheapest, but only has 2.4% proportion."
      ],
      "metadata": {
        "id": "fighpHLI6BPP"
      }
    },
    {
      "cell_type": "markdown",
      "source": [
        "##### 3. Will the gained insights help creating a positive business impact?\n",
        "Are there any insights that lead to negative growth? Justify with specific reason."
      ],
      "metadata": {
        "id": "Seke61FWphqN"
      }
    },
    {
      "cell_type": "markdown",
      "source": [
        "Answer Here"
      ],
      "metadata": {
        "id": "DW4_bGpfphqN"
      }
    },
    {
      "cell_type": "markdown",
      "source": [
        "There is a negative growth here as Entire home/apt has more than 50% proportion in new york city and it too has highest avg price also. Shared room are the cheapest, but only has 2.4% proportion."
      ],
      "metadata": {
        "id": "-eAjxFHIjjZq"
      }
    },
    {
      "cell_type": "markdown",
      "source": [
        "#### Chart - 7"
      ],
      "metadata": {
        "id": "PIIx-8_IphqN"
      }
    },
    {
      "cell_type": "code",
      "source": [
        "# Chart - 7 visualization code"
      ],
      "metadata": {
        "id": "lqAIGUfyphqO"
      },
      "execution_count": null,
      "outputs": []
    },
    {
      "cell_type": "code",
      "source": [
        "fig, axes = plt.subplots(nrows=1, ncols=3, figsize=(24, 8))\n",
        "ax = axes.flatten()\n",
        "\n",
        "sns.lineplot(data=df, x='neighbourhood_group', y='availability_365', hue='room_type', ax=ax[0])\n",
        "ax[0].set_title('Room Availability throughout Neighbourhood/Room Type')\n",
        "sns.scatterplot(data=df[df['price'] < 500], x=\"availability_365\", y='price', hue='room_type', alpha=.9, palette=\"muted\", ax=ax[1])\n",
        "ax[1].set_title('Price vs Availability (Range $ 0 - 500)')\n",
        "\n",
        "sns.countplot(data=df[df['availability_365']  == 365], x='neighbourhood_group', hue='room_type', palette='GnBu_d', ax=ax[2])\n",
        "ax[2].set_title('Property Available 365 days')\n",
        "sns.despine(fig)"
      ],
      "metadata": {
        "id": "8FDjlq-v6LdD"
      },
      "execution_count": null,
      "outputs": []
    },
    {
      "cell_type": "markdown",
      "source": [
        "##### 1. Why did you pick the specific chart?"
      ],
      "metadata": {
        "id": "t27r6nlMphqO"
      }
    },
    {
      "cell_type": "markdown",
      "source": [
        "Answer Here."
      ],
      "metadata": {
        "id": "iv6ro40sphqO"
      }
    },
    {
      "cell_type": "markdown",
      "source": [
        "countplot method i have used because it display the count of categorical observations in each bin in the dataset and scatter plot used to represent relation among variables and how change in one affects the other."
      ],
      "metadata": {
        "id": "VBf1t2GT6Z61"
      }
    },
    {
      "cell_type": "markdown",
      "source": [
        "##### 2. What is/are the insight(s) found from the chart?"
      ],
      "metadata": {
        "id": "r2jJGEOYphqO"
      }
    },
    {
      "cell_type": "markdown",
      "source": [
        "Answer Here"
      ],
      "metadata": {
        "id": "Po6ZPi4hphqO"
      }
    },
    {
      "cell_type": "markdown",
      "source": [
        "From the above two graphs,Staten Island has most busiest Shared Room as well as Most available Private Room. Brroklyn and Manhattan has quite similar availabilities. On the other hand, from Price vs Availability graph, we can notice almost uniform distribution i.e. A particular room type of a particular price range can be available throughout year. Also there are 1295 total properties that are available 365 days a year. Manhattan tops this list with 572 properties while Brooklyn stands at second with 453 properties available.\n",
        "\n"
      ],
      "metadata": {
        "id": "8fvllLWF6jTZ"
      }
    },
    {
      "cell_type": "markdown",
      "source": [
        "##### 3. Will the gained insights help creating a positive business impact?\n",
        "Are there any insights that lead to negative growth? Justify with specific reason."
      ],
      "metadata": {
        "id": "b0JNsNcRphqO"
      }
    },
    {
      "cell_type": "markdown",
      "source": [
        "Answer Here"
      ],
      "metadata": {
        "id": "xvSq8iUTphqO"
      }
    },
    {
      "cell_type": "markdown",
      "source": [
        "yes there is a positive impact from business point of view as we can notice almost uniform distribution i.e. A particular room type of a particular price range can be available throughout year."
      ],
      "metadata": {
        "id": "Hto_Jq0zi0fR"
      }
    },
    {
      "cell_type": "markdown",
      "source": [
        "#### Chart - 8"
      ],
      "metadata": {
        "id": "BZR9WyysphqO"
      }
    },
    {
      "cell_type": "code",
      "source": [
        "# Chart - 8 visualization code"
      ],
      "metadata": {
        "id": "TdPTWpAVphqO"
      },
      "execution_count": null,
      "outputs": []
    },
    {
      "cell_type": "code",
      "source": [
        "df['last_review'] = pd.to_datetime(df['last_review'], errors='coerce')\n",
        "\n",
        "df['Days'], df['Month'], df['Years'] = (df['last_review'].dt.day, df['last_review'].dt.month, df['last_review'].dt.year)\n",
        "df['last_review'] = pd.to_datetime(df['last_review']).dt.date\n",
        "filtered_df = df[df['Years'] != 1970]\n",
        "fig, axes = plt.subplots(nrows=1, ncols=2, figsize=(22, 6))\n",
        "ax = axes.flatten()\n",
        "\n",
        "sns.histplot(data=filtered_df, x='Days', hue='room_type', multiple=\"stack\", ax=ax[0])\n",
        "ax[0].set_title('No of Guest in days of the months')\n",
        "sns.histplot(data=filtered_df, x='Month', hue='room_type', multiple=\"stack\", ax=ax[1])\n",
        "ax[0].set_title('No of Guest in months of the years')\n",
        "sns.despine(fig, left=True)"
      ],
      "metadata": {
        "id": "UqnQDh5aBu12"
      },
      "execution_count": null,
      "outputs": []
    },
    {
      "cell_type": "markdown",
      "source": [
        "##### 1. Why did you pick the specific chart?"
      ],
      "metadata": {
        "id": "jj7wYXLtphqO"
      }
    },
    {
      "cell_type": "markdown",
      "source": [
        "Answer Here."
      ],
      "metadata": {
        "id": "Ob8u6rCTphqO"
      }
    },
    {
      "cell_type": "markdown",
      "source": [
        "A histogram is basically used to represent data provided in a form of some groups.It is accurate method for the graphical representation of numerical data distribution"
      ],
      "metadata": {
        "id": "r3HFhNXZlBhL"
      }
    },
    {
      "cell_type": "markdown",
      "source": [
        "##### 2. What is/are the insight(s) found from the chart?"
      ],
      "metadata": {
        "id": "eZrbJ2SmphqO"
      }
    },
    {
      "cell_type": "markdown",
      "source": [
        "Answer Here"
      ],
      "metadata": {
        "id": "mZtgC_hjphqO"
      }
    },
    {
      "cell_type": "markdown",
      "source": [
        "So, we've created day month based on the last_review date, though it is not fully accurate many guest prefer to not give a rating (just assumption). We can see a trend where, first day and last day of month most number of guests. Also in the middle of the year, in June Month, there is a surge in guest count."
      ],
      "metadata": {
        "id": "sGuKj30oCdeE"
      }
    },
    {
      "cell_type": "markdown",
      "source": [
        "##### 3. Will the gained insights help creating a positive business impact?\n",
        "Are there any insights that lead to negative growth? Justify with specific reason."
      ],
      "metadata": {
        "id": "rFu4xreNphqO"
      }
    },
    {
      "cell_type": "markdown",
      "source": [
        "Answer Here"
      ],
      "metadata": {
        "id": "ey_0qi68phqO"
      }
    },
    {
      "cell_type": "markdown",
      "source": [
        "yes there is some positive business impact as we can see a trend where, first day and last day of month most number of guests. Also in the middle of the year, in June Month, there is a surge in guest count."
      ],
      "metadata": {
        "id": "0LQoYL0TiJ5a"
      }
    },
    {
      "cell_type": "markdown",
      "source": [],
      "metadata": {
        "id": "S21oHbomikQX"
      }
    },
    {
      "cell_type": "markdown",
      "source": [
        "#### Chart - 9"
      ],
      "metadata": {
        "id": "YJ55k-q6phqO"
      }
    },
    {
      "cell_type": "code",
      "source": [
        "# Chart - 9 visualization code"
      ],
      "metadata": {
        "id": "B2aS4O1ophqO"
      },
      "execution_count": null,
      "outputs": []
    },
    {
      "cell_type": "code",
      "source": [
        "fig, axes = plt.subplots(nrows=1, ncols=2, figsize=(22, 6))\n",
        "ax = axes.flatten()\n",
        "\n",
        "sns.lineplot(data=df, x='neighbourhood_group', y='reviews_per_month', hue='room_type', style=\"room_type\",\n",
        "        markers=True, dashes=False, ax=ax[0])\n",
        "ax[0].set_title('Review per Month vs Neighbourhoods')\n",
        "sns.scatterplot(data=df, x='number_of_reviews', y='price', hue='room_type', palette=\"ch:r=-.2,d=.3_r\",\n",
        "        hue_order=['Private room', 'Shared room', 'Entire home/apt'], ax=ax[1])\n",
        "ax[1].set_title('Price vs Number of Reviews')\n",
        "sns.despine(fig, left=True)"
      ],
      "metadata": {
        "id": "rEwNTFeODE5U"
      },
      "execution_count": null,
      "outputs": []
    },
    {
      "cell_type": "markdown",
      "source": [
        "##### 1. Why did you pick the specific chart?"
      ],
      "metadata": {
        "id": "gCFgpxoyphqP"
      }
    },
    {
      "cell_type": "markdown",
      "source": [
        "subplots method provides a way to plot multiple plots on a single figure. Given the number of rows and columns , it returns a tuple ( fig , ax ), giving a single figure fig with an array of axes ax ."
      ],
      "metadata": {
        "id": "VR68PP4Gj-CD"
      }
    },
    {
      "cell_type": "markdown",
      "source": [
        "Answer Here."
      ],
      "metadata": {
        "id": "TVxDimi2phqP"
      }
    },
    {
      "cell_type": "markdown",
      "source": [
        "##### 2. What is/are the insight(s) found from the chart?"
      ],
      "metadata": {
        "id": "OVtJsKN_phqQ"
      }
    },
    {
      "cell_type": "markdown",
      "source": [
        "Answer Here"
      ],
      "metadata": {
        "id": "ngGi97qjphqQ"
      }
    },
    {
      "cell_type": "markdown",
      "source": [
        "Brooklyn and Manhattan stands pretty fall in terms of review rate per month. Also, we can notice a negative relation between price & no. of reviews. Where, costlier properties has significantly less no of reviews, but cheaper properties have large number of reviews. Usually, cheaper rooms has more number of guest visits than costlier one, we know no of reviews is directly proportional to no of guests."
      ],
      "metadata": {
        "id": "ivuZWIiFDVew"
      }
    },
    {
      "cell_type": "markdown",
      "source": [
        "##### 3. Will the gained insights help creating a positive business impact?\n",
        "Are there any insights that lead to negative growth? Justify with specific reason."
      ],
      "metadata": {
        "id": "lssrdh5qphqQ"
      }
    },
    {
      "cell_type": "markdown",
      "source": [
        "Answer Here"
      ],
      "metadata": {
        "id": "tBpY5ekJphqQ"
      }
    },
    {
      "cell_type": "markdown",
      "source": [
        "we can notice a negative relation between price & no. of reviews. Where, costlier properties has significantly less no of reviews, but cheaper properties have large number of reviews"
      ],
      "metadata": {
        "id": "7nH8lkaxD4Ek"
      }
    },
    {
      "cell_type": "markdown",
      "source": [
        "#### Chart - 10"
      ],
      "metadata": {
        "id": "U2RJ9gkRphqQ"
      }
    },
    {
      "cell_type": "code",
      "source": [
        "# Chart - 10 visualization code"
      ],
      "metadata": {
        "id": "GM7a4YP4phqQ"
      },
      "execution_count": null,
      "outputs": []
    },
    {
      "cell_type": "code",
      "source": [
        "fig, axes = plt.subplots(nrows=1, ncols=2, figsize=(22, 6))\n",
        "ax = axes.flatten()\n",
        "\n",
        "mean_price_df = df.groupby(['neighbourhood_group', 'room_type'], as_index=False)[['minimum_nights']].mean()\n",
        "sns.barplot(data=mean_price_df, x='neighbourhood_group', y='minimum_nights', hue='room_type', palette='GnBu_d', ax=ax[0])\n",
        "ax[0].set_title(\"Avg Minimum Nights vs Neighbourhood / Room Type\");\n",
        "\n",
        "sns.scatterplot(data=df[df['price'] < 1000], x='minimum_nights', y='price', hue='room_type', palette=\"ch:r=-.2,d=.3_r\", ax=ax[1])\n",
        "ax[1].set_title(\"Price vs Minimum Nights (Range $ 0 - 1000)\")\n",
        "\n",
        "sns.despine(fig)"
      ],
      "metadata": {
        "id": "JMjVcNNWROtW"
      },
      "execution_count": null,
      "outputs": []
    },
    {
      "cell_type": "markdown",
      "source": [
        "##### 2. What is/are the insight(s) found from the chart?"
      ],
      "metadata": {
        "id": "tgIPom80phqQ"
      }
    },
    {
      "cell_type": "markdown",
      "source": [
        "Answer Here"
      ],
      "metadata": {
        "id": "Qp13pnNzphqQ"
      }
    },
    {
      "cell_type": "markdown",
      "source": [
        "We can see, the more cost the property has, the more it tends to allow lower number of minimum nights. Within the price range 0 - 200, the minimum nights distribution is ranged between approx 0 - 400 days. But within the price range $ 600 - 1000, avg minimum nights decreased to ~7 nights. But still, we can say most hosts gives less than 10 nights mandatory stay. As a trivia, Manhattan has highest avg minimum night restriction."
      ],
      "metadata": {
        "id": "Ey1DCGITET_z"
      }
    },
    {
      "cell_type": "markdown",
      "source": [
        "##### 3. Will the gained insights help creating a positive business impact?\n",
        "Are there any insights that lead to negative growth? Justify with specific reason."
      ],
      "metadata": {
        "id": "JMzcOPDDphqR"
      }
    },
    {
      "cell_type": "markdown",
      "source": [
        "Answer Here"
      ],
      "metadata": {
        "id": "R4Ka1PC2phqR"
      }
    },
    {
      "cell_type": "markdown",
      "source": [
        "Its not giving so much positive growth as the more cost the property has, the more it tends to allow lower number of minimum nights."
      ],
      "metadata": {
        "id": "aV2YcCZOgWbz"
      }
    },
    {
      "cell_type": "markdown",
      "source": [
        "#### Chart - 11"
      ],
      "metadata": {
        "id": "x-EpHcCOp1ci"
      }
    },
    {
      "cell_type": "code",
      "source": [
        "# Chart - 11 visualization code"
      ],
      "metadata": {
        "id": "mAQTIvtqp1cj"
      },
      "execution_count": null,
      "outputs": []
    },
    {
      "cell_type": "markdown",
      "source": [
        "##### 1. Why did you pick the specific chart?"
      ],
      "metadata": {
        "id": "X_VqEhTip1ck"
      }
    },
    {
      "cell_type": "markdown",
      "source": [
        "Answer Here."
      ],
      "metadata": {
        "id": "-vsMzt_np1ck"
      }
    },
    {
      "cell_type": "markdown",
      "source": [
        "##### 2. What is/are the insight(s) found from the chart?"
      ],
      "metadata": {
        "id": "8zGJKyg5p1ck"
      }
    },
    {
      "cell_type": "markdown",
      "source": [
        "Answer Here"
      ],
      "metadata": {
        "id": "ZYdMsrqVp1ck"
      }
    },
    {
      "cell_type": "markdown",
      "source": [
        "##### 3. Will the gained insights help creating a positive business impact?\n",
        "Are there any insights that lead to negative growth? Justify with specific reason."
      ],
      "metadata": {
        "id": "PVzmfK_Ep1ck"
      }
    },
    {
      "cell_type": "markdown",
      "source": [
        "Answer Here"
      ],
      "metadata": {
        "id": "druuKYZpp1ck"
      }
    },
    {
      "cell_type": "markdown",
      "source": [
        "#### Chart - 12"
      ],
      "metadata": {
        "id": "n3dbpmDWp1ck"
      }
    },
    {
      "cell_type": "code",
      "source": [
        "# Chart - 12 visualization code"
      ],
      "metadata": {
        "id": "bwevp1tKp1ck"
      },
      "execution_count": null,
      "outputs": []
    },
    {
      "cell_type": "markdown",
      "source": [
        "##### 1. Why did you pick the specific chart?"
      ],
      "metadata": {
        "id": "ylSl6qgtp1ck"
      }
    },
    {
      "cell_type": "markdown",
      "source": [
        "Answer Here."
      ],
      "metadata": {
        "id": "m2xqNkiQp1ck"
      }
    },
    {
      "cell_type": "markdown",
      "source": [
        "##### 2. What is/are the insight(s) found from the chart?"
      ],
      "metadata": {
        "id": "ZWILFDl5p1ck"
      }
    },
    {
      "cell_type": "markdown",
      "source": [
        "Answer Here"
      ],
      "metadata": {
        "id": "x-lUsV2mp1ck"
      }
    },
    {
      "cell_type": "markdown",
      "source": [
        "##### 3. Will the gained insights help creating a positive business impact?\n",
        "Are there any insights that lead to negative growth? Justify with specific reason."
      ],
      "metadata": {
        "id": "M7G43BXep1ck"
      }
    },
    {
      "cell_type": "markdown",
      "source": [
        "Answer Here"
      ],
      "metadata": {
        "id": "5wwDJXsLp1cl"
      }
    },
    {
      "cell_type": "markdown",
      "source": [
        "#### Chart - 13"
      ],
      "metadata": {
        "id": "Ag9LCva-p1cl"
      }
    },
    {
      "cell_type": "code",
      "source": [
        "# Chart - 13 visualization code"
      ],
      "metadata": {
        "id": "EUfxeq9-p1cl"
      },
      "execution_count": null,
      "outputs": []
    },
    {
      "cell_type": "code",
      "source": [],
      "metadata": {
        "id": "0-ZsrEo5LsuV"
      },
      "execution_count": null,
      "outputs": []
    },
    {
      "cell_type": "markdown",
      "source": [
        "##### 1. Why did you pick the specific chart?"
      ],
      "metadata": {
        "id": "E6MkPsBcp1cl"
      }
    },
    {
      "cell_type": "markdown",
      "source": [
        "Answer Here."
      ],
      "metadata": {
        "id": "V22bRsFWp1cl"
      }
    },
    {
      "cell_type": "markdown",
      "source": [
        "##### 2. What is/are the insight(s) found from the chart?"
      ],
      "metadata": {
        "id": "2cELzS2fp1cl"
      }
    },
    {
      "cell_type": "markdown",
      "source": [
        "Answer Here"
      ],
      "metadata": {
        "id": "ozQPc2_Ip1cl"
      }
    },
    {
      "cell_type": "markdown",
      "source": [
        "##### 3. Will the gained insights help creating a positive business impact?\n",
        "Are there any insights that lead to negative growth? Justify with specific reason."
      ],
      "metadata": {
        "id": "3MPXvC8up1cl"
      }
    },
    {
      "cell_type": "markdown",
      "source": [
        "Answer Here"
      ],
      "metadata": {
        "id": "GL8l1tdLp1cl"
      }
    },
    {
      "cell_type": "markdown",
      "source": [
        "#### Chart - 14 - Correlation Heatmap"
      ],
      "metadata": {
        "id": "NC_X3p0fY2L0"
      }
    },
    {
      "cell_type": "code",
      "source": [
        "# Correlation Heatmap visualization code"
      ],
      "metadata": {
        "id": "xyC9zolEZNRQ"
      },
      "execution_count": null,
      "outputs": []
    },
    {
      "cell_type": "code",
      "source": [
        "plt.figure(figsize=(10, 6))\n",
        "heatmap = sns.heatmap(df[dist_col_list].corr(), linewidths=0, vmin=-1, annot=True, cmap=\"YlGnBu\")\n",
        "plt.show()"
      ],
      "metadata": {
        "id": "NJw9sUsIMHmE"
      },
      "execution_count": null,
      "outputs": []
    },
    {
      "cell_type": "markdown",
      "source": [
        "##### 1. Why did you pick the specific chart?"
      ],
      "metadata": {
        "id": "UV0SzAkaZNRQ"
      }
    },
    {
      "cell_type": "markdown",
      "source": [
        "Answer Here."
      ],
      "metadata": {
        "id": "DVPuT8LYZNRQ"
      }
    },
    {
      "cell_type": "markdown",
      "source": [
        "##### 2. What is/are the insight(s) found from the chart?"
      ],
      "metadata": {
        "id": "YPEH6qLeZNRQ"
      }
    },
    {
      "cell_type": "markdown",
      "source": [
        "Answer Here"
      ],
      "metadata": {
        "id": "bfSqtnDqZNRR"
      }
    },
    {
      "cell_type": "markdown",
      "source": [
        "no_of_reviews and reviews_per_month has high co-relation for obvious reason. But the price column also has very low corelation with other features."
      ],
      "metadata": {
        "id": "289p0X1CMVVv"
      }
    },
    {
      "cell_type": "markdown",
      "source": [
        "#### Chart - 15 - Pair Plot"
      ],
      "metadata": {
        "id": "q29F0dvdveiT"
      }
    },
    {
      "cell_type": "code",
      "source": [
        "# Pair Plot visualization code"
      ],
      "metadata": {
        "id": "o58-TEIhveiU"
      },
      "execution_count": null,
      "outputs": []
    },
    {
      "cell_type": "code",
      "source": [
        "numeric_columns = ['minimum_nights', 'price', 'room_type', 'number_of_reviews']\n",
        "sns.set(style='ticks')\n",
        "sns.pairplot(df[numeric_columns], diag_kind='kde', plot_kws={'alpha': 0.7})\n",
        "plt.suptitle('Pair Plot of Numeric Variables in Airbnb Dataset', y=1.02)\n",
        "plt.show()"
      ],
      "metadata": {
        "id": "qUR11KyIM1WR"
      },
      "execution_count": null,
      "outputs": []
    },
    {
      "cell_type": "markdown",
      "source": [
        "##### 1. Why did you pick the specific chart?"
      ],
      "metadata": {
        "id": "EXh0U9oCveiU"
      }
    },
    {
      "cell_type": "markdown",
      "source": [
        "Answer Here."
      ],
      "metadata": {
        "id": "eMmPjTByveiU"
      }
    },
    {
      "cell_type": "markdown",
      "source": [
        "A pair plot is a useful visualization for exploring relationships between multiple numeric variables in a dataset. Since i mentioned an \"Airbnb booking analysis i create a pair plot to analyze relationships between numeric columns in the dataset."
      ],
      "metadata": {
        "id": "M9LYkDF8PCYl"
      }
    },
    {
      "cell_type": "markdown",
      "source": [
        "##### 2. What is/are the insight(s) found from the chart?"
      ],
      "metadata": {
        "id": "22aHeOlLveiV"
      }
    },
    {
      "cell_type": "markdown",
      "source": [
        "In this code, i am using a subset of numeric columns to create a pair plot. The diagonal elements show kernel density estimation (KDE) plots for each variable, and the off-diagonal elements show scatter plots for each pair of variables.\n",
        "\n",
        "Remember to adjust the numeric_columns list to include the numeric columns from your dataset that you want to analyze in the pair plot. This visualization can help you identify potential relationships, correlations, and patterns among these numeric variables in the context of Airbnb bookings."
      ],
      "metadata": {
        "id": "xN-6GEKlPQWc"
      }
    },
    {
      "cell_type": "markdown",
      "source": [
        "Answer Here"
      ],
      "metadata": {
        "id": "uPQ8RGwHveiV"
      }
    },
    {
      "cell_type": "markdown",
      "source": [
        "## **5. Solution to Business Objective**"
      ],
      "metadata": {
        "id": "JcMwzZxoAimU"
      }
    },
    {
      "cell_type": "markdown",
      "source": [
        "#### What do you suggest the client to achieve Business Objective ?\n",
        "Explain Briefly."
      ],
      "metadata": {
        "id": "8G2x9gOozGDZ"
      }
    },
    {
      "cell_type": "markdown",
      "source": [
        "Answer Here."
      ],
      "metadata": {
        "id": "pASKb0qOza21"
      }
    },
    {
      "cell_type": "markdown",
      "source": [
        "It'd be a better if we had avg guest ratings of a property, that would be beneficial in understanding the property more and could also be a factor in deciding price (a low rated property tends to lower their price)"
      ],
      "metadata": {
        "id": "W8uzWKdoM79d"
      }
    },
    {
      "cell_type": "markdown",
      "source": [
        "# **Conclusion**"
      ],
      "metadata": {
        "id": "gCX9965dhzqZ"
      }
    },
    {
      "cell_type": "markdown",
      "source": [
        "Write the conclusion here."
      ],
      "metadata": {
        "id": "Fjb1IsQkh3yE"
      }
    },
    {
      "cell_type": "markdown",
      "source": [
        "So, this AirBNB dataset is a rich in data but not on features. From the entire above analysis we can conclude that,\n",
        "\n",
        "Most visitors don't prefer shared rooms, they tend to visit private room or entire home.\n",
        "Manhattan and Brooklyn are the two distinguished, expensive & posh areas of NY\n",
        "Though location of property has high relation on deciding its price, but a property in popular location doesn't it will stay occupied in most of the time.\n",
        "Performing a regression on this dataset may result in high error rate, as the features given in this dataset, are of very poor quality in deciding the property valuation. We can see this by looking at corelation heatmap. We would need more features like bedrooms, bathroom, property age (guessed it'd be a very important one), tax_rate applicable on land, room extra amenities, distance to nearest hospital, stores or schoolds. These features might have a high relation with price.\n",
        "We could use a time series analysis to make prediction of occupancy rate at particular time of a month, or particukar time of a season."
      ],
      "metadata": {
        "id": "TOTH42UxNJDF"
      }
    },
    {
      "cell_type": "markdown",
      "source": [
        "### ***Hurrah! You have successfully completed your EDA Capstone Project !!!***"
      ],
      "metadata": {
        "id": "gIfDvo9L0UH2"
      }
    }
  ]
}